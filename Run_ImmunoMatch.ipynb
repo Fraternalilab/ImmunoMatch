{
  "nbformat": 4,
  "nbformat_minor": 0,
  "metadata": {
    "colab": {
      "provenance": [],
      "gpuType": "T4",
      "authorship_tag": "ABX9TyM6pDkoxoxGSQeznAsy+k88",
      "include_colab_link": true
    },
    "kernelspec": {
      "name": "python3",
      "display_name": "Python 3"
    },
    "language_info": {
      "name": "python"
    },
    "accelerator": "GPU"
  },
  "cells": [
    {
      "cell_type": "markdown",
      "metadata": {
        "id": "view-in-github",
        "colab_type": "text"
      },
      "source": [
        "<a href=\"https://colab.research.google.com/github/Fraternalilab/ImmunoMatch/blob/main/Run_ImmunoMatch.ipynb\" target=\"_parent\"><img src=\"https://colab.research.google.com/assets/colab-badge.svg\" alt=\"Open In Colab\"/></a>"
      ]
    },
    {
      "cell_type": "markdown",
      "source": [
        "<h1>ImmunoMatch</h1>\n",
        "<p align=\"center\">\n",
        "<img src=\"data:image/png;base64,iVBORw0KGgoAAAANSUhEUgAAARMAAAERCAYAAABYYUOzAAAACXBIWXMAAFxGAABcRgEUlENBAAAAGXRFWHRTb2Z0d2FyZQB3d3cuaW5rc2NhcGUub3Jnm+48GgAAIABJREFUeJzt3XmYXFWd//H399zq7IGwKZuCLCOMoUNWFWUJi4ROV3UAieM6bj+jDkI6BHCdEB1n2LKAioPbKOKoESFd3YkIQocB2dIhdAgCgisIuACBkKST7jrf3x+dQEK6u869dW+6q/N9PY/PI13nnnO6U/Wpc8+99xxRVUw8vlCYCxzkisXG/u6LMQOF6+8OVBtfX7gY5QqU2b6+ML+/+2PMQGFhEoPPN1yCcOkrPxD+3RcKX+jHLhkzYIid5oTx+YavgH6xxxeVz7qW4mW7uEvGDCgWJuWIiM/nF6LM7qOUIpzrisVrdlm/jBlgLEz6IiK+vv5qkHMDSivCp1yxeG3m/TJmALIw6c3MmZHftOlbIB+NcZRXlX+NWpquz6xfxgxQFiY9mTkz8ps2fw/0QwmOLqnKB6KWpp+k3i9jBjC7mvNaU6fm/KbNP0gYJACROL2uVN9QSLVfxgxwNjLZ3syZQ3TT5p8oemYKtW1RlbOilqZlKdRlzIBnYbJNXd1QjaIliqQ5otjkhfpcsXh7inUaMyBZmAAUCiPUs1SF0zKofaMT6igW78igbmMGDJszAbyXT2UUJAAjvFIkn5+SUf3GDAgWJoCbPGERQpaXc/fwIrcwvWFShm0Y06/sNGeb7vtKrgf5lwxb+YdTP5WWlrUZtmFMv7Aw2d6kWTV6wNM3pDwJ+1p/c5GbytKlv8mwDWN2OTvN2V7btZ0yfPg5ImR5Ofd1vuRvoe7MwzNsw5hdzkYmPZk5c7hu6mhRODnDVp50wokUi3/IsA1jdhkLk94UCiNKynKBEzNrQ/idEzmBpqanM2vDmF1k8J/mvPPi0YmOKxY3RqWugsL9KffoVcrh3tPKtLMPyKwNY3aRwR0mUy7an47SPUyam2x5xeXLX4o6hr1LlbaUe7Yd/Sc/pPOXFAr7ZteGMdkbvGEy6bNvxPs7gbcA/87kC5Itr3jrkhcjxxlAdpdzlWO88iumTds7szaMydjgDJMJcw+BrlbgiFd+pvIfTLrw4kT1FYv/cDW5U1CyvJw7rjRkyHLq6vbIsA1jMjP4JmDHX3Qkkb8dOLiHVxXVz7BqwTcS1Z3PH+RF7kDJ7LKuondHw4efzpIlL2fVhjFZGFwjk8kXv5nIt9JzkAAIIl9j0txPJqq/ufkvzrmpQGaXcwU5Tjd1LGXmzOFZtWFMFgZPmExsPBottQIHlSkpwDVMmvvxRO0sXfqkK0WnAX9JdHwAhVN0U8dSpk4dllUbxqRtcITJlIuORaL/A0IvsQrw30ye+95E7S2/6XcOnYrwTKLjAyi8S0eO/gmTZtVk1YYxaar+OZOJcyci/BLYJ8HRJVTex6orliRqe/qMY7zztwOZXdYV4UZZv/49tLZ2ZdWGMWmo7pHJlAuOQ7idZEECECH6QyZemE909LKlDzn0VOD5hO2XpcpZftTo7zF/fnX/W5lBr3rfoBMvOh4vNwOVXkodgugNTJ57RqKjm5vbnXd1wEsV9qMvH/Rtq75jgWIGsup8c06ZcyLilwPJbpXf2RBUb2DyhSclOnrZ0vucujOALC/nfsS3tV2FiGTYhjGJVV+YTJwzDe9+AYxKt2IZgWoLEy86PtHhLUvvdsIZwIZ0+7U9Odfn8wuzq9+Y5KovTHDnAFndgzES8c1MmJNsecVi8S7v5EygI91ubUeZ7QuFKzOr35iEqi9MDv/zJ1Cy3C1vT5y7lYlzJyY5ONfUdKsKZwGbU+7Xq5QLfKGQ7FkjYzJSnZeGJ82qgVE/A2nIrhH5O640lfsXPpzk6FJ9w1ki+lMgl3LHXqV81rUUL8usfmNiqL6RCUDbtZ107DETaMmuEd0P725nYuPRSY6OWppuVOH9QCnljr1KuNTXN1yQWf3GxFCdI5NtjjxvKHsMuYnuic+sPIXzJ3L/wt8nObhUKHxYlO+SXXAr6Kddc/N/Z1S/MUGqc2SyzeNXb0ZGvxtYkWErB+OllfGNhyY5OCoWv6/CLCCr1BaQa0qFwscyqt+YINU9Mtlm3IUjqfG/AEl2WTfME/joRB64LNF6rb6+MBthUdqd2k5JhQ9GxeKPM2zDmF5V98hkm/YrNkBNHmVlhq0cgSu1Mqkx0XqtrqW4GJW5aXdqO5EoPyzVN5yTYRvG9GpwjEy2Gd84hsjdBjIhw1YeAk6m7cp/JDnY5xu+AvrFlPu0vS0qnB0VixlOThuzs8ExMtlm9aJ1+M5pQKLLuYGOAX7FcXMSrdfqmpu+BFyabpd2MESUG0qFQpaT0sbsZHCNTLZ52+zX05VbARyVXSP6ACV/CqsXrUtytC8UrkTJ8rLuRifUUSzekWEbxrxicI1Mtrl38V/JRacBiS7nhpEJuGgZY/8t0TNCrrn5QpAsL+eO8MoyCoV3ZtiGMa8YnCOTbSZ99o3QdQdwaIat3EWnTOueBI5JRHx9/ltAsiUkg9rgRVeSU1nWlOHeP8YM1pHJNm2X/hn1pwFZbr/5Tmr0JqbOj79eq6q64cM+iZLd5VxlT+/0VhoaxmfWhjEM9jABWLXwCSKdCjybYSun8fLLN3HkeUNjH7lkScmNGPZBlGRLR4YZ473+khkz/jnDNsxubnCf5mxv0pxjwLWSfInH8oQbGTX6PbTOi79e68yZQ3RTx88V6jPo2TZ/dU5OpKnpsQzbMLup3SdMoHsVe+9vAzLchlN+xuhR70sUKHV1QzXK3aRk+qzRk044kWIxs71/zO5p8J/mbO/+yx9EdTqwPrtG9BzWr/8OkmC91uXLN4vwbs32WaM3eKWV6dMPybANsxvavcIEYNWCe3E6jWzXa/1XJqz/dqL1WovFjdGWzfWK3JlBv7Y5xLvoVqadnejRAGN6svuFCcD9C+7G6wxgU2ZtCB9l4pzFiY795S83RB1D86pkeTn3SF/T2UpDw+szbMPsRnbPMAF4YMFt4GaQ5XqtyHlMnJtsAehbl7wYDclNQ3go5U5t783e6y+oq6t0uxBjduMwAWi7/BayXq9VaGTyhZckOvbGG59zXV2noPwm3U7tYDxS808Z1m92E7t3mACsvPIXKO8Dstt+U3UeE+d+PtGxy5f/3UVyMvBoup3ajvOdmdVtdhsWJgCrrrwR9H1ku17rV5k896JExzY1/dVF7l1ANpdzo8jCxFTMwmSbtgU/Q/XjgM+sDeVSJs39dKJjly590qk/FeSplHsFnZ22KbqpmIXJ9lYt+D4inyDT9Vr5OpMvmJXo6JaW3zv8yQjPpNqrIUO2pFqf2S1ZmLzWyiu+CzRm2IKgcg0TL/hAoqObmx93IlOBv6bWo64uO80xFbMw6UnblVeBZrlwkUPk+0ye+95ERzc1PeacnAG8kE5vnJ3mmIpZmPSmbcFCROZn2EKE8kMmXZBsAeimptUi3JdKT0olO80xFbMw6cvKKy4B/a8MW4hArmfiBcmeFFZq0ulFZCMTUzELk3LaFnwe4YoMWxiCyA1Mnhv7SWGf1j7GQ4damJiKWZiEaFtwMXBNhi0MRfUGJl94UszjhqTUvp3mmIpZmIRQVVYtOBfhW9k1IiNQbWHiReG7EqZzmqMsWZLdzXpmt2FhEkpVaRv9KUSuz7CVkYhvZsrcySGFRVIJE7ssbFJhYRKHzvO86U8fRvlJhq3siecWJl1UflfCdEYmFiYmFRYmcS1ZUkLWfwilmGErY0BvZsqct/RZSiSNCVgLE5MKC5Mk2q7tZPPoc4Bl2TWi++Hd7UxsPLqPMjYyMQOGhUlSa+dtYYg/B7g9w1Zeh0S3MGXOYT2/LBYmZsCwMKnE3Qs3weg8Klnu53swXloZ33jozi/ZyMQMHBYmlWqbt5EupgN3ZdeIvJEoupUJFx/4mhcsTMyAYWGShvYrNlAq5UEfyLCVI3D+Vxw3Z/h2P7MwMQOGhUlaVi9aR8mfkmGgKMq3uk+tXmFhYgYMC5M0rV60Dt85DVJfAFoROY9VV7x264w0wsSeyzGpsDBJ2wNX/51cV5oLQHtEP87KK76+w0+7N/iKKq1cxUYmJh0WJlm4d/FfyUWnUfkC0CXgo6xc8L2dXjnnnHSWH1ALE5MOC5Os3HvZU5A7CfhTwhpKqH6Ytit/0OOrL76YSpg4G5mYlFiYZKnt0j9TcqcBT8c8cgvKTFYt6P2hwhEjbGRiBhQLk6ytvvxxJDoZeDbwiC2IzOzey6cPmzenEyY2MjEpsTDZFVZe9hgqpwPP9V1QN4LLs/KKprJ1+uHprLJmIxOTEguTXWXVFWtw7lR6XVFeN+Ip0Hb5LUH1Dem0kYkZUCxMdqX7L38Q1Tpg/WteeRmo54EFtwXX1RWlEiZqIxOTEguTXW3VgnsRdwbdAQKwDtXTaFvQGqueXMlGJmZAsTDpDysv/zVeZwDPIP50Vi24N3YdJWdXc8yAYmHSXx5YcBujRx/GyoX3Jzo+8umECWK305tUWJj0p9Z5HYmPTWtkImojE5MKC5NqldbIRMXCxKTCwqRKdflUlmy0kYlJjYVJtXKpLNloIxOTGguTKiU2MjEDjIVJtbKRiRlgLEyqlWo6z+bYyMSkxMKkWklKpzk2MjEpsTCpVprSaY6NTExKLEyqVUojE1ULE5MOC5MqJWmNTGx1epMSC5NqpWnNmTgbmZhUWJhUK0lrzsRbmJhUWJhUKxuZmAHGwqRa2cjEDDAWJtUqpZGJehuZmHRYmFSrtEYmzkYmJh0WJlXLpXI7fc5GJiYlFibVykYmZoCxMKlWaV3NsZGJSYmFSbWykYkZYCxMqpWSTphEkYWJSYWFSbWSlMKks9OezTGpsDCpVjYyMQOMhUmVkrRGJl1dFiYmFRYm1SqtkUlNjYWJSYWFSbVKa2SyebOFiUmFhUm1SmtkMnSohYlJhYVJlfJpjUxeesnCxKTCwqRapbXVxX77WZiYVFiYVK1UbqdXliwppVCPMRYm1UrSCRMblZjUWJhUrVSezbEwMamxMKlaNjIxA4uFSdWykYkZWCxMqlYKIxOxDbhMeixMqlYKIxO1kYlJj4VJ9UpjZGJhYlJjYVK9bGRiBhQLk+plIxMzoFiYVC8bmZgBxcKkGokIEFVajdrIxKTIwqQanXNOSpuWW5iY9FiYVKOOjlSeGHY2MjEpsjCpRpuG2cjEDDgWJtVoeEc6YWIjE5MiC5NqtKXGRiZmwLEwqUZDOtMJE8SezTGpsTCpRl1RKmGiqjYyMalJZx1Rs2vV+L9pSWYCIH64qBu29f87VPZ8pZxjJDBk63/lgNGvvOYZjcjdu6jHZjcgqtrffTDGDAJ2mmOMSYWFiTEmFRYmxphUWJgYY1JhYWKMSYWFiTEmFRYmxphUWJgYY1JhYWKMSUX37fRj5+yNK70p6IghHWtou9ae6TDG7KA7TBzTEPejoCM2D98f+GuGfTLGVCE7zTHGpMLCxBiTCgsTY0wqLEyMMamwMDHGpMLCxBiTCgsTY0wqLEyMMamwMDHGpMLCxBiTCgsTY0wqLEyMMakYmJtwjZ2zd/fDhzoF+CdgDKiAvAj8HnQVpSHLWHv5s7HqnTRrBF0jT0d5O/i3IG4MqoLwMsqfQNZC6Tbar1qbxa8V7E3zhzF63VSE44G3AHsBw4F1CE/hZQ24X7Dmykdj1TtzZsSjB78TOBn8MYjsgzIc4UXQv3X//nIXb37qbpYsKaX/iw1ytXMOw/Eu1I9D5TCE0XR/Ya9D+SNCO87/itVXPb5L+yXzHbXrjgUmgBwDHAS6JzAG2Ay8jPIXRH6H0Mawrnu59+qXYjejqlA7532Ihj017HV/Hlrc91PDtY2/RGRyn2XUz2LN4p/t8LOxF4wjKn0W5Gyg3BaYHtUmlEt4aPGaPkseO+cgvF6M8BFgVJl6AR5G9FLa9/pfdJ4PKL+jcbO/Cu5TZUp9h/aFF+3wk0mNB7CFucDHEfYIaOk+1H+ZNVct77s/F45ESp/B63kIB5SvVp9FWYzv/AZrv/FyQD96aLNxBUht2XKl3D/H/lLorv/bW98n5TTQvvDOsqVqG7+MyLllSt1I+8KP7/CT7g/qe1AaEfp+z7/qPlSu5qinfpppaI+b/VZEPopqAWT/GEd2gt4K7ofsvecNtM4L2pM6m9McYTToXn3/T4a8Un7chSMZN/ubRH4VyL9QPki6+y5yJk7aGNf4OURk536IUDunEdVHET5DWJAAvAWVH1K7bgUT5h4SeMx27TK87O8vDN+hn8c2zqGT3yLMCQwSgLcibhm1c37IcXOG91hifON06HoE1f8KCxIA2R+RS4mGrmF84zsC+/Iaukf594DuxZBNSd+DI4PqR8P2ZQ75N8OP3OGYcY0TqF13H/C/MYIE4K2I/ojHDlzJ2AvGxTguzPjGk6htbAW5F+UTMYMEoAakDvTHPL/uccbN+dceP1+v0f9zJuPPPxK6VoJ8EogS1FAD/CfHzP7mDj8d+2+jqJ29FNGFhIfIax1PqfRrxs1+c8Ljyzvq4tEcM7sZZQFJ+yn6ATborYy78NU3u4gwbvZX8TQDb0jWOX0TntsYNyef7PhB7NjZs4C7gUnJK5HxRP7X1DaekUqfaj+9F7WN38VzO8JJqdQJh4J+n9rZ/8fY2W/sq2D/hsn4xmPx7k7g6IrrEmZRO/tioPuPGtXcChQqrhcOAlnG284LHS2EmzR3X4Z2tiJMT6G2d6CdP0REkPmOY87/LsjngbLfKGUMBf0p484fm0IfB4djZ/87Kv8NDE2htpEIP+OYxso+A+NmvxkZtgrho1T+b96TdxLJasadf0pvBfovTByH4bkZeH1qdYr8B7WNb0eGNoG8LbV64XA2uctSrA+8H0lnqQV0Ymp1ipxJ7eyPccy6xYh8JLV6YTjIdcj8/h/J9rdjG+egMj/lWkciXBNyKtGj8bMng/waNGzp1eT2BreMYxvP6unF/ntzKPNIM0i65RBWAMenXC8gH+OY8w5Przr5EPDW1Op71Te2zg+lTMYz7oVz0q+3msjbUS7PpmpOoraxPvZxY2e/EU8R2Cf9TvVoKMqPexqh9Oc3Te/zI8ozoKuBvwBxZ7uH9PFaJ+ijwMMocS991SC5D8U8pi99zA/JC8BDwO/ovnQXR1+/v4L8AaEd+HvMegH5WPxjBpVD6P3fzQN/Ah4EnktWvb4/VvGx84cQSVOCCdZKDQH3c2rnHLb9DwfSsHUDyleIokNZs+hA2hdPoH3RwdRE+4P+J6DJq5Y/gHwYcnvRvvho2heNZZ8x+4A2AH8Mr8a/K3kfyvKo/g8wkTWL9qF9US3ti47gpTFjUJkFrK+g7hcR+RxeD6B94WE8uOhY2he9DqdTgLuCa1FO5Mjz0pgnGEweQ+Wj6OZ9aV90KO2LxtO+aF9KegjI1UDQZdWt6hk7v68vgx1F6y4Ejo3Z378g8nVEPoVwdvfngktQVhLvM7Ynoj9m5sxXwnWg3LT2CCUpsHbhEzu90nblP4AvcOyc51G9MkHdN0L0Idqv2LDDT7uvnRcZe9H9RJ33E3TFQ45B5rtE9570bR34d7Pmqtu6/3PRq6/8YV4H8C3GzXkEdAXxvwDWUNI8axf9eadXVi9eyaRZJ9M58hegvU6sbWcIo6Kj6f72NegCSnt9nrXztuz00trFfwbO59g5K1D9CX2PGLcZiaw7HHikbMnuWxY+H6Ozfwf9HGv2+p9e3r/zqT1/IuK+Qfjp9xQeO3gWcA0MjJHJP/Du9B6DZHt77XkV8PuYdd9JzcZ/2SlItrf28mdRmRdY30jGP5f2uakH/27atwVJL9oX3olyQ6yalWeoYdrWN3bP2q7txOtnCP1W8pLwMvMgo/Jl2hfP7TFItvfgwpsgxpegyD8FlfOlC4ERgbU+Rkkn0b74u31+Ea65ahV7j3kncF1gvYDOZ9KsETAQwkT18zy04Mmy5VrndSH8IkbNHs+soA3DOrcUCf0wdQbfUBZG9Qdlg2Qbp82x6hb5HG2Lnilb7qFFjwBht3irpn+JvPrcw0N7hl/RcXIFsDGorARckZk0d1+UsKt1yjN4PbHPL5Tttc7rYs3iD4P8PKg87MuWER+Bfg8TeYH1e/0wxgGPxSj7y60fkvIe+fpzQNgfO6pJ98Pko6uCy0qs3/9v1Gz43xjlVwf2wcJE/X/EOtVdvWgdcG9Y3Vr+xsVO/37CRiWK04+Uffxl5z4oJT4BPB1UXvRj0N9hon7F1jmBMN7/Lkbt8b7F4amwPqT6zfw0axe0B5fudHF+/5vjbeOqYb+/jUw2MKTj1viH6W+DiokEhIT2eJ9HD5XdzoOLfxlW9jXWLnweNPDeKhnPMecd3r9h4iTs2/AVEv7QmeOeWFWr/i2sXj86Vr19NxpzInPPOA/dhX0TvtIVCfv9RVL8/avS6kR7bSt/CSzZ8zNW24xvHAOEPS8lek1gmz2rGfYDIOw9J+7k/g0TH3NC1bnQUYzic/Ee83YSdk7rXZLnh3omLt7v3z3ZFzi89mHfhNs4NgWX3L39IdFRoe+vcrfoqxtP2DNsXWgu2ahkm7ZLXwQNvXXg7f38xvAvxCreJaE3cL3c5xWcHruifc/KZ8FrvN+/W+jfIN55sg/+2+7ehPIT2j1RCT+d77MeH/aUsfBw7M9AzxXdF1ZMjuzfMIlcaFpvLV8K/AfR+H9EJ/GHrpUK/7baTuCb0rl465A4jXNz1UAQtrRA2jR4BJfOcTs7KLC936TSmmjYRQw4pJ9HJjE/9N4HvuElhUTeFRKEHoEfeilVx9/A1yR9wrV/7sRVTRYKoumMTJA9w8olGvX2wIXWM6afr+bEHJmEq44PUpb9dJur428ggYsX7XQcw1LuSWi7CcMk9jNWPdMyE7SvNvhiKu3BusByI/p7Ajatod9raFYhlS6f0nn0zpRV38rob5s2nyxMtL9GJlm9ZwOJDz19Tec0MPzvvGVwzsyLS/vZmWqjqFbwYOQupFH4g2076p8wcZl9AQQKvj1iTDrt+b0CC24YnGFiqkeXJH3YtJ+eXu7vkJbQOYx01grS4HqetjAx/aumlHRkMrJ8kcHIhz5SkdIKfhJWj/B7CxPTzyRpmASutD/IiAvdK+nAcgtAB3GELX/qdZWFicmIhN0EqBp6Tv6qsXP2JvmOA9Utt+G3hC6UFckHK2pr7AXjUMJuknPRry1MTFbCJiq92y92zblKtpeocm3XdiKELVkBsypaGc/58wJLPk/u5bssTExGJOzb0+lRsatWZsY+ZjDx2vcOjq96AyNyX0nURu2cExE+HFZYfk7btZ0WJiYjPmxJAziLqfPDr+jUnj8RNM2FvavPkGFLCF4TWC9gXOO7Y9U/vvFQRK8j7KFOhdLVBBY2Jj4NXKhbOYIXXghb9X7cZ96EuJvor+dyBoq2S18EvhdY2gE/obbx34L25RnXOAHPXUDg5K3cSPtVa7c1ZEz6RNuCy6p8jWPn9H3qUts4A3L3kXir00HGuwWErjUCEcLXGdd4F7Xn1/W4An7tnGMYN/sbwP2EPkyIdqBctO2/Bsrq9Gaw2TzsfoZu2UzYzWU1qP6U2sYPda896n+Hyt9xsi+ik1Hei+zGk649eWjBk4yb/QWQ8GU/VY9D3DLcupcY1/go3ctUjAEOQXhj7F1FRS6ifeEra/JYmJhsPHrZempnL0fkzOBjhOmg00G2vq+1ot2SBr01e32d2nV54NRYx3Wv4zulorZFfkb7oq9vvy2LneaYDLnwb834fpBgV8bBRed5hpfO3rpD4650Fy/u+aHXPv9lYWKys2bhHTG2TIjj14yUT2VQb/W59+qX6KqZRvdcx67wK0pbzuhpIXgLE5Mtpx8H4q1H2xdlBZuHnMHdC6tkiYVdYO3lz/LSmBOJtXlWEnoNG0v1rP1GjxO/FiYmW6sXraNUc+LWjegr4YEr2WfMaTx6WSX7Lg9Of5jXQfuif0XkdOLtLxXiSZQzaV/8bzx+da+LPFmYmOytvfxZNvq3A1+FRMsX3oH6KbQvunDrHtGmNw8uvIXSmFqUD1DxqY8+i+pnIXc0axYtLVe6+2qO4wngW0H1j/Tlh5eqTTh5qGy5GhdvAq2Gl/AB/fQaZ7OqrfROAu7poSR/LN8+9+ACHpEX+t5fuUd6Xdm9a3yCayDduwUGvAdkZey6ga3faF/kmNlfw/FJ4N3A2F7LK88g2oTje6xe3HObIt9HtO/lG1VD96u5Dwn4/TVwG9WduD8gPuC9K6FbS/Sue0uUHwE/4pjZtTjJA9NBx4OUW+7yT8AKkJ+zsXRLXyOR15JqWZDLDEITztuPktSibn+QkYjvwMlzwMOsXvTH/u7eoDN1fo7n1h9BVDoczx6ojAavwDoieRqfe5z2K8I2Y+uBhYkxJhU2Z2KMSYWFiTEmFRYmxphUWJgYY1JhYWKMSYWFiTEmFRYmxphUWJgYY1JhYWKMSYWFiTEmFRYmxphUWJgYY1JhYWKMSYWFiTEmFRYmxphUWJgYY1JhYWKMSYWFiTEmFRYmxphUiM/nlyQ9WOEBVyxemkZHfD5/mYi8KVE/PBtcS/EjafTD9K+uQuFdEXy8XDnv5WdRS9PPdkWfTJicKudUcPxJzJ9/OfPm+Yp6cfrpIxkydLYqQxIdL6wDdp8wmTSrpnTgM3VRsdjU311Jm/NyuIqWfU+K8BvAwmQAqfQ0Zz/uv7+20k6Uhg49ARIGyW6mq1A42R/wzAOizOvvvhizvVylFfgoOtXBg5XUIXBKpf0Y9OrOPFxzpf9yr44kK91u05hUVRwmW4PgyooqUTmFBJvQ7RYKhRFe5SIivRil3G5sxvSbiq/mqHICdXVDE1dw1ln7gFZ8qjToiEipvuEcrzwCOg8sSMzAlsal4RFdUfT2pAeXurpOSakfg0ehMKE0PX+niC4B3tjf3TEmRCofYqdyatJjxXNyGn0YNAqFN3plpQjv6O+uGBNHKmGiUsEEqiNxEA1KXVENNlIzVSiVN63AZOrr94p94PTph6AcnkYfjDH9K61vwKjk3IlxDypFkY1KjBme1YUQAAAP70lEQVQkQsPk5XIFJMG8iWjQfEnZto0x/S8oTATuA7b0XUrjzZuICJQJE+FFhYdi1WuM6RehN61t1PJXGI5ixow3sHTpk0E1Tp/+FmD/vooI3KXIHv12Q9vMmaPYsmUvVEdQKo3a+tPNwEZqap7nppvW9U/HdrGpU4cxevQBeL83AM5tQHU9w4e/yJIlA3fkOGlWDfv/5Q1A93yer1nHqJonWbKkzBejSSL4DliBFdD35cqS96dE8P2Q+rxEZe96VS+tCA2hfazIzJlRV0fHiQ7yotQqvAV4/Suvy2sGcV0lyBc2AH8EHkC41znXHBym26opFN7lvBz6yg9yul9gdu7r6xs+0dMLLuJhmpp+HacfO5g+/RDv3NmicoKKTGTU6INRXv0bKIDApg7IF/4ksFqR+53jZzQ1PZG43TQ0NBzhS/phRKZxoNairuaV16ISbCp1kS88ivAr5/31tLSs6sfeDirBYeJxKxz+C32V2Tpv8v2Q+gQ9pdxnxlFaUSLKNkxmzhzlOzouQvmUg30h1jhoJN2h8xaUD/qS/5oUCrdIyV3CsqX3hVQQKZ9S0Rmv/CC88Tcgem1PL3ivX3cQO0y66mecGuEvUhedCohKUIcOUTgEdIb3/Kfm83cDV0bNzTfFbb8idWcerpG/VNGzEBxob13PAWNRxnpxs7VQ+L9I9UKam+/fpf0dhIKv5uScv5uQeZPuuZC+TZ2aUyh39WcdI0ZU9ABhOaVCod5v6ngc5UtsDZIKOVWmeefv8fnCt5k5c3gKdWZv+vRDNF9oduJvVeE0oPy/YS8EOU6QGzXfcDP19Yel2Mte+ULh0z4qPaTou4l5hVKUEzxyt883XBL03jW9Cv/DF4sbFcql9/5b50L6NmrUZGCPvooI3MmSJaXg/sXk8w3nirKUMvM2CQnw8dKmjhXU1fX5e/a3UqFwhnfRAwr1adar6Ole3H3k84kftShr6tScry98B+UbQCXBHYHO8/X1V6fVtd1RvBRHVpQr43FlLxH7gCUHFC3bVlKlfP49oF8DoqzaABCYolHux1m2UYlSofA+UYrA3hk1sa9HbuvK509KvWZR50eNvh7hYylWem4pn39/evXtXmKFicevKFdGAm6PV6RsmDgpH1yJ1NcfLch3Mqm7Bwp1pXz+3buqvVClfL5OlOtIYRmKMoY75KfU1R2caq3Kp4H3pFonIMhlnH76yLTr3R3ECpOcyD2UmTdR5QQmzarptUChMEKg3ND3BSZOzGS+RMVdCYwqWzBFTuTTu7K9shoajhDkJ2Q8MtvO60ou95OU5yT2SbGu7R3khw79VEZ1D2rxbqcvFjcqUu4qxWgOfOatvb3YJfIOoM/1T0T5v4rXle3J9IYTFOoCS3sRWhEWg16AyiyU8xAuE+Fmuu83CaLK8RQKI5J1OmUiUvJ8Dxgd88jHRGkC/TbKj4E1QPC/kQjvKE0vZD1Cex7heoQLt/57fQHl+8D6OJVUuC7ybiv2EFdEV6Ac31cZr3Kqg7t6es1p+TtlFVZkMa2ukZ4bdOlV+Y0TfR/F5vbe+iFnnbWPdpb+e+sVhHJywAR6+Jt49CYReWy7H4xBmBVQ51+Rni/DK3JPbweV6utnCtrnv98OVcESp34+LS2PwGsu8zQ0HKGq/xn64RPRrzJ16k20tnYFth9qI+iXXKn0DZYv3znkzzyz0ZdKl6H0eF/OTv2EyTQ0HEhT09Mp93NQix0mHlY4+FJfZVT1VOCSHl/znFJusOu0tCJuv8qqq9tDo1zAFQt5yvnOk1i+/O99Frvxxudk6tT36qjRhwPjy9VaUj0s6iFMoubm63bs55mH+6gUEiZPu2LxswHlXiUiUp8PXYi6S4WPRsXiD3st0dT0hMBMrS/MR/j3gDqPLI0adUYEzYF9CPGcc3IyTcU1vZa46aZ1Dmb5QmEzymcC6pSukvxzDixMYoj91HBu2LB7KDPEF8cUGhp2HkZPm7a3SNkP3vNMmdL7GyMp5/YFvV6F+4ANvRVT0UvKBsk2ra1din4zpKiIHBjW0Qzl8ycARweVVS7sM0i245Y1XyLor4LKinwwqP0w6r18gKamoPeL6+r6IhD0bytSSrSH0+4s/hIES5ZsUqTv+02UmpLqTjellXJDT6LMpJ8gd2QyX9LS8nvX3PyJqFh8m5s0cQ/n5EhFz0H5ssBS4PfAk9GwYUEfoG0i59qCCqrsl6DXqfKqQZc9VWlzkyeG33OhqiIyP6BklyqH9zlBH4MIy3PLmm4OPmD58pcQlofVLYcm7NZuK9FlwZB5E+k+1WnZ4WcBTxaraCbzJTvoDqsnIngCuKG7b8DUqTmai/HO50X+EXQPvGr/LggtItQXzgi7X1++GTvQi8W7yDc8BbrtEvA/BNpVWaOONRGsoavr4R7nNBLyqtcmuBz1aFAp1QF9s+FAlChMQuZNoIf1TQKWd8zs/pIQcScGRaSrUDgqbB2Hfg6TM2YcBqWQez26ohp3Y5ImVPRc9b4j1zV0DTf//Bmo4L78coTOCLkt7mGq+rQE9UpsN4CYEoVJbtiwe/ymjs30fYn3n5l29gHb3lTU1R1MlHtzmar/wYQJa5P0aZcpFEZ0eXecE51BfaHBeQ28GUtSGdonVcqVjpWwhwifSLq0wi7drlT5Lc3FjQmODDtGbGuRuJLd/bhkySYtFO4T5YQ+Skkp13VKBNcDlFzNKVJmiC2S0f0lSYkI06cfVSKaIk7fivJWoNaJj/93UzJ7ziiEeN4c8oUsUh2LUQn8IeGhQadZojYyiSvxrdTiWYH0GSaI01PZGiYiAfMlPpv7S4JNnTqMkSMne9zxIrxD6/PHAWOk98fZw4n2d0geFFKo+zRg4FN4KUk/1bkO8UFzXP06kqxGicPEIysc2ve9BbrDMzhl13t1+Nak/UmsUBhR8nKWQz+ko0afwNZTtwzWduvfkYljPw26YU8G7spp29N4d7Vuk+tis7eNRDKROExyG166x48a3UGf21bqwRQKR+G9IK7cN+PfWbbs4aT9ia2u7mDvcl9EeK+I7pH5wpAq/Tsy0cBH9EV6vQdngEkUJkS6xba1zkbyjG5t7dDuhab75FVO7V6isW+C3IEGfXdWrFTf8FEf5R7betv6rrkE6MKfY8lG4ASwVMnwvnpCb7dR0ePn3eub7Hxz2g5lVE9FKJsSit8l8yW+vuFLIvrlCqvZJHC3oisUHhak/KVU1X49zQENW0RZ1R6/N4lUFCYev8IhfT7roY6T0PLfyrvi/pJSfcM5CYOkQ+FeEVqd9614fz/Ll28WgGlnH+BrOgOq6N/THA29JIqzMDGJVBQmuZdfvrfsvImyZ0BVf6O5+TeV9KWs02buKcP0mhhH/BX4H69yS27DS/fQ2trRYym3KQr6M0p/n+bw15BCInpoxv0wg1Rlq2y1tnZovnCvwEkV1aOsyHq+xA/dfB5hi0ZvBr3AlUrfYfnyzWUnlaIodO3R/j7NeSrkflRVjk58ujl16jDGjNmfm276Y9IqTPWqeMk+QVeAnFRhLSsq7Uf5JvRDIcVU5cNRS/EnwfU6N5yg+xZSP82JNXmu6n4jYbfAHkp9/V60tLwQt0OlkXu8S7pKTeQL61X4jSgPoTzscWtzXdHDr9wNbQalisPEiawI+Sz1WQcZrF+yvRkz3gAcUb6grIpamsKDBOjyfj8X9KxH4ATsUEqEPSEU6xm3qCv3QNjcDq5EVIjgB3HqBxD0pK3/d7R03y38VqT7Qpav8ZAvPN+93at+PWpuviFu/WZgq/z2nfXr7wN6nk8I8yzLloU9yZlQV6eW336j271x63ZwVFBBDQzuzZtDHzaM98Bs96jgkZCijrClCnYwc2aEMLNMqb0FTrTLuoNT5WHS2tohQq/LBAbI/P4SiXSvoIKqCZaxlDOCCrq+173drsLQMAmrb8fKW8qXARVOK9U3TI9Tc6mj4z2E3bK/IVq/ftff6Wwyl8qNxdq9D3EyQvZvLC9ha2g4jotVb6HwTtXABao9Q4LKDR0adC6CxF+d3YkGn7qI6LXk80cGFW5oeL2oXBZUL9zc65UxU9VSCRNXSj6BuivuL4mc/i2ooHJMqVCYUb4gkM8f6ZWfEr5kR9hIoqtrU1A5ZU/qZ/QcfqfN7PlyfLH4sISH90EeWdFVX396n6Xqzjzce27eblGkPon6qwLbN1UmnQ2YtPM+yG0i7haNwjM0NT1WvmCFcrnf0tnlCQhPUf6H6TOe6Wvj8VI+/35BriLG3i0ijAkqWCxuJF9YT8BWFF58E/n8f3nnHpISB4rTY1EKDOMOBx/tuR/yJVXtceeAHhzoxN2s+cJtqrLEiX8QkWcRGV5SPVIgT8QHCfx3V/RuWlruDGzbVJl0wmT58s2SL9yjAU8G78BXcHoUx403/k3zhTaBKQGlx3jn76C+cI3D/wjnHmHYMKWj4xDvZSrCJwQ5Nm4XFHlDjPs3niVsX5t9QRY4r93jo60zT6L8rtcjmpp+Tb7hOgi7VE53tacgeopHuttQTbKCmqpImdX5TDVL7WFs1SSnK7tuiUbR7nVVAg1FaPTi2ryywW/q2OiVRxC9BjR2kHTTN4SWlO4NrhJToc9TDqel2SRfXCghvTpXLN6+a9s0u1JqYZLkXhGnXbGPScqNGHYt0sc3dvb2Y9rZB4QUVOWOCtvqe/6ipeUFp76A8GKF7QSSB93LL8fb48dUnfSWifH+fiBs8rDbX1i27LeptV/OkiVbvOrHKbNXcgLPokF7CUupZsu0kAqd6I3E2H60B6N7nYTdpqVlrYPTgOcraCfEaid6ml3BGfzSC5Pup2hj3G+y61ehzzU3r1D0/xFjj9wyHnCRm+Jamr6J8sdyhR0uH1Rrc/NfEL5VUc+Gd5S/ulIsrnTo24D2itrqhQitTv0pFIv/yKJ+M7CkuoBdnHkTFQ0um6aoufk672U6UMkbvAthgROOZ+nSJwGQ8muaqGg9DQ1BO/u5YcPmSgXbaHZ5H7ZqfnPz4+7l9W8DmU9ldzJvb52in5Dm5lOSPONjqlOqYRJn3iTqx/1xcsuabnZOxgFX08dWoT3oALnOORnrisW5FF/dasE5AhZIosarfjKopSVLtsgzB5yNcD7wXIw+gvKbnObCt6tobe1wzU2XuM6aw4BLEZI+kPcIwhxXkzsiam7+9q5aOc8MDDmn/vCypVTDFtYZMeJut3Fj+foAmlp+H1IscvwLJd/3tgM1NfFPW5qannZwPtOmzS/lhtaJ0+NRmQj6OmAfhBqUF0H+hOpD6rg9iqLmXveUmTDhHrdyZfnfvXNo+LxS27WdDq6mru77pVxumkAdMAFlP2A/uueoNir8SZQncNzrSq6VZUuTbVdx88+fcfA55s//Ag888HavepKoTFTRI1AOBEbR/UzQOmCdCs+JZy2OlU71XpqbKz5dcr7zRzj3y4CiyUY8XV2rnXPpvefNK/4/rXJxP1XmClkAAAAASUVORK5CYII=\" width=\"150\">\n",
        "</p>\n",
        "<div style=\"flex: 2;\">\n",
        "<br></br>\n",
        "    <p><strong>ImmunoMatch</strong> is a language model fine-tuned from\n",
        "      <a href=\"https://www.biorxiv.org/content/10.1101/2023.12.12.569610v1\" style=\"color: #0073e6; text-decoration: none;\">AntiBERTa2</a>\n",
        "      to investigate the pairing between the heavy and light chains of antibodies.\n",
        "    </p>\n",
        "    <h3 style=\"margin-bottom: 10px;\">How to Access</h3>\n",
        "    <ul style=\"padding-left: 20px; line-height: 1.6;\">\n",
        "      <li>You can directly access <strong>ImmunoMatch</strong> from the checkpoints on\n",
        "        <a href=\"https://huggingface.co/fraternalilab/immunomatch\" style=\"color: #0073e6; text-decoration: none;\">Hugging Face</a>.\n",
        "      </li>\n",
        "      <li>This\n",
        "        <a href=\"https://colab.research.google.com/drive/1zhPkM69qxRKH07g9DydLv8ovvwsbflwa#scrollTo=vW26pWmnpvkX\" style=\"color: #0073e6; text-decoration: none;\">Colab notebook</a>\n",
        "        provides examples of how to run <strong>ImmunoMatch</strong> and generate pairing scores. You can input <b>single</b> VH-VL pair, or upload a csv of multiple VH-VL pairs, in which the pairing scores will be predicted <b>in batches</b>.\n",
        "      </li>\n",
        "    </ul>\n",
        "  </div>\n",
        "</div>\n",
        "<hr style=\"border: none; border-top: 1px solid #ddd; margin-top: 20px;\">"
      ],
      "metadata": {
        "id": "vW26pWmnpvkX"
      }
    },
    {
      "cell_type": "code",
      "execution_count": null,
      "metadata": {
        "cellView": "form",
        "id": "tp61GQr-K06S"
      },
      "outputs": [],
      "source": [
        "# @title Import the dependencies\n",
        "# @markdown Please execute this cell by pressing the Play button on the left to download and import dependencies in this Colab notebook.\n",
        "\n",
        "# @markdown This will both import external python libraries, and the customized functions we wrote for easier access of the model. <b>This could take one and a half minutes. </b>\n",
        "# install dependencies\n",
        "! pip install datasets\n",
        "! pip install rjieba\n",
        "! pip install -U datasets\n",
        "#! wget https://github.com/DongjunGuo/compiled_igblast_human/raw/refs/heads/main/ncbi-igblast-1.21.0.tar.gz\n",
        "#! tar -xzvf ncbi-igblast-1.21.0.tar.gz\n",
        "\n",
        "from transformers import (\n",
        "        RoFormerTokenizer,\n",
        "        pipeline,\n",
        "        RoFormerForSequenceClassification,\n",
        "        Trainer,TrainingArguments\n",
        "    )\n",
        "\n",
        "import pandas as pd\n",
        "import numpy as np\n",
        "\n",
        "import torch\n",
        "from datasets import load_dataset\n",
        "\n",
        "from sklearn.metrics import roc_curve,roc_auc_score\n",
        "from matplotlib import pyplot as plt\n",
        "import seaborn as sns\n",
        "\n",
        "from functools import partial\n",
        "\n",
        "import warnings\n",
        "with warnings.catch_warnings():\n",
        "    warnings.simplefilter('ignore')\n",
        "\n",
        "import shutil\n",
        "from google.colab import files\n",
        "import os\n",
        "\n",
        "# Functions for the calculation of the pairing score for single VH-VL\n",
        "def preprocess_single_seq(seq):\n",
        "  \"\"\"\n",
        "  Add the gap between adjacent amino acids, so that the model treat each amino acid as an individual token.\n",
        "  args: input: seq: a string of amino acids\n",
        "  \"\"\"\n",
        "  return \" \".join(list(seq))\n",
        "\n",
        "def pairing_score_single_pair (h_seq,l_seq,model_checkpoint):\n",
        "  \"\"\"\n",
        "  Output the pairing score of a single pair of VH and VL sequences\n",
        "  args:input:\n",
        "  h_seq: a gapped sequence outputted from the function preprocess_seq\n",
        "  l_seq: a gapped sequence outputted from the function preprocess_seq\n",
        "  model_checkpoint: the checkpoint of the version of the immunoMatch of your interest\n",
        "  \"\"\"\n",
        "  tokenizer = RoFormerTokenizer.from_pretrained(model_checkpoint)\n",
        "  model=RoFormerForSequenceClassification.from_pretrained(model_checkpoint)\n",
        "  model_output=model(**tokenizer(h_seq,l_seq,return_tensors=\"pt\",padding=\"max_length\",max_length=256))\n",
        "  pairing_score=torch.nn.functional.softmax(model_output.logits, dim=1)[0][1].item()\n",
        "  return pairing_score\n",
        "\n",
        "\n",
        "# Functions for the calculation of the pairing score for batches of VH-VL\n",
        "\n",
        "def preprocess_seq(example,hseqcol=\"input_Hseq\",lseqcol=\"input_Lseq\"):\n",
        "    return {\"input_Hseq\":\" \".join(list(example[hseqcol])), \"input_Lseq\":\" \".join(list(example[lseqcol]))}\n",
        "\n",
        "def tokenize_function(examples, tokenizer, hseqcol=\"input_Hseq\",lseqcol=\"input_Lseq\",max_length=256,return_tensors=\"pt\"):\n",
        "    return tokenizer(examples[hseqcol], examples[lseqcol], padding=\"max_length\", truncation=True, max_length=max_length, return_tensors=return_tensors)\n",
        "\n",
        "def tokenize_the_datasets(df_dir,hseq_col,lseq_col,tokenizer):\n",
        "    \"\"\"\n",
        "    Tokenize the datasets\n",
        "    args:input:\n",
        "    df_dir: str, the directory of the dataset\n",
        "    hseq_col: str, the column name of the heavy chain sequence\n",
        "    lseq_col: str, the column name of the light chain sequence\n",
        "    \"\"\"\n",
        "    df=pd.read_csv(df_dir)\n",
        "    datasets=load_dataset(\"csv\", data_files={\"test\":df_dir})\n",
        "    tokenized_datasets=datasets.map(partial(preprocess_seq,hseqcol=hseq_col,lseqcol=lseq_col))\n",
        "    tokenized_datasets=tokenized_datasets.map(partial(tokenize_function,tokenizer=tokenizer),batched=True)\n",
        "    return df, tokenized_datasets\n",
        "\n",
        "def pairing_scores_batches (df_dir,hseq_col,lseq_col,model_checkpoint):\n",
        "  \"\"\"\n",
        "  Load the model and make the pairing prediction on batches of sequences\n",
        "  args:input:\n",
        "  df_dir: the directory of the csv files holding the sequences of pairs of VH and VL sequences\n",
        "  hseq_col: the column name of the column of VH sequences\n",
        "  lseq_col: the column name of the column of VL sequences\n",
        "  model_checkpoint: the chesck point of the version of ImmunoMatch of your interest\n",
        "  \"\"\"\n",
        "\n",
        "  tokenizer = RoFormerTokenizer.from_pretrained(model_checkpoint)\n",
        "  model=RoFormerForSequenceClassification.from_pretrained(model_checkpoint)\n",
        "\n",
        "  df,tokenized_datasets = tokenize_the_datasets (df_dir, hseq_col, lseq_col, tokenizer)\n",
        "\n",
        "  device=\"cuda\" if torch.cuda.is_available() else \"cpu\"\n",
        "  batch_size=48\n",
        "  args = TrainingArguments(\n",
        "    f\"tmp\",\n",
        "    #evaluation_strategy = \"no\",\n",
        "    save_strategy = \"epoch\",\n",
        "    #learning_rate=2e-5,\n",
        "    per_device_train_batch_size=batch_size,\n",
        "    per_device_eval_batch_size=batch_size,\n",
        "    #num_train_epochs=5,\n",
        "    #weight_decay=0.01,\n",
        "    report_to=\"none\"\n",
        "    #load_best_model_at_end=True,\n",
        "    #metric_for_best_model=\"accuracy\",\n",
        "    #push_to_hub=True,\n",
        ")\n",
        "\n",
        "  trainer = Trainer(\n",
        "            model,\n",
        "            args,\n",
        "            tokenizer=tokenizer,\n",
        "            )\n",
        "  pred_result=trainer.predict(tokenized_datasets[\"test\"])\n",
        "\n",
        "  pairing_scores=torch.nn.functional.softmax(torch.tensor(pred_result.predictions),dim=1)[:,1].tolist()\n",
        "  df[\"pairing_scores\"]=pairing_scores\n",
        "\n",
        "  return df\n"
      ]
    },
    {
      "cell_type": "code",
      "source": [
        "# @title Get the pairing score of single VH-VL pair\n",
        "# @markdown This cell is used to calculate the pairing score of the VH-VL sequences pair you inputted, using the version of ImmunoMatch of your interest.\n",
        "\n",
        "# @markdown #### Model Checkpoints\n",
        "# @markdown Three versions of ImmunoMatch are available, including ImmunoMatch, ImmunoMatch-κ, and ImmunoMatch-λ. Please select the model checkpoint accordingly.\n",
        "immunoMatch_version = 'fraternalilab/immunomatch-kappa' # @param [\"fraternalilab/immunomatch\", \"fraternalilab/immunomatch-kappa\", \"fraternalilab/immunomatch-lambda\"]\n",
        "model_cp_single = immunoMatch_version\n",
        "# @markdown #### VH-VL sequences\n",
        "h_seq='EVQLVESGGGLVQPGGSLRLSCAASGFNIKDTYIHWVRQAPGKGLEWVARIYPTNGYTRYADSVKGRFTISADTSKNTAYLQMNSLRAEDTAVYYCSRWGGDGFYAMDYWGQGTLVTVSS' # @param {type:\"string\"}\n",
        "l_seq='DIQMTQSPSSLSASVGDRVTITCRASQDVNTAVAWYQQKPGKAPKLLIYSASFLYSGVPSRFSGSRSGTDFTLTISSLQPEDFATYYCQQHYTTPPTFGQGTKVEIK' # @param {type:\"string\"}\n",
        "\n",
        "h_seq_gapped=preprocess_single_seq(h_seq)\n",
        "l_seq_gapped=preprocess_single_seq(l_seq)\n",
        "pairing_score_single=pairing_score_single_pair (h_seq_gapped,l_seq_gapped,model_cp_single)\n",
        "\n",
        "print (f\"\\n\\n\\n Pairing score for the inputted H-L pair: {pairing_score_single}\")\n"
      ],
      "metadata": {
        "cellView": "form",
        "id": "EAFecj_sLMr7"
      },
      "execution_count": null,
      "outputs": []
    },
    {
      "cell_type": "markdown",
      "source": [
        "## Run ImmunoMatch on a batch of sequences"
      ],
      "metadata": {
        "id": "Gc2nc-85qTeW"
      }
    },
    {
      "cell_type": "code",
      "source": [
        "# @title Example input data\n",
        "# @markdown You can organize your data as a csv file, with each row indicating a VH-VL pair, and columns holding VH, VL amino acid sequences seperately. Here we show you the example dataset so that you get a feeling of the structure of input data. The example dataset is sampled from [King et al., 2021](https://www.science.org/doi/10.1126/sciimmunol.abe6291), where B cell sequences from germinal centre are collected. Explaination on each columns in the data are listed below:\n",
        "\n",
        "# @markdown <b> barcode:</b> The barcode of the cell indicating the pairing identity.\n",
        "# @markdown <br><b> VH: </b> Sequences of the VH domains.</br>\n",
        "# @markdown <b> VL: </b> Sequences of the VL domains.\n",
        "# @markdown <br><b> locus: </b> This column indicates the type of the L chain: κ or λ.</br>\n",
        "# @markdown <br> Your uploaded csv file should contain the information covered in the <b> VH, VL, locus </b> columns.\n",
        "\n",
        "# Get the sample data from https://www.science.org/doi/10.1126/sciimmunol.abe6291\n",
        "# ! wget -O King_Tonsil_GC_paired.csv https://github.com/Fraternalilab/ImmunoMatch/raw/refs/heads/main/King_Tonsil_GC_paired.csv\n",
        "\n",
        "#gc_data=pd.read_csv(\"King_Tonsil_GC_paired_subset.csv\").head(n=100)\n",
        "gc_data=pd.read_csv(\"https://github.com/Fraternalilab/ImmunoMatch/raw/refs/heads/main/example_input/King_Tonsil_GC_paired.csv\").head(n=100)\n",
        "gc_data"
      ],
      "metadata": {
        "cellView": "form",
        "id": "JbTGNPMrrx0u"
      },
      "execution_count": null,
      "outputs": []
    },
    {
      "cell_type": "code",
      "source": [
        "# @title Your input data\n",
        "# @markdown Here, you input your csv file. First go to the \"Files\" tab at the left side of this Colab notebook to upload your data file. Then input the directory of your csv file here. <em>Or</em> paste the url of the csv file to here directly.\n",
        "\n",
        "\n",
        "# @markdown After this, please indicate the names of the column holding <b>L chain type, VH and VL sequences</b> here.\n",
        "\n",
        "data_dir=\"https://github.com/Fraternalilab/ImmunoMatch/raw/refs/heads/main/example_input/King_Tonsil_GC_paired.csv\" # @param {type:\"string\", placeholder:\"enter a value\"}\n",
        "hseq_col_name=\"VH\" # @param {type:\"string\", placeholder:\"enter a value\"}\n",
        "lseq_col_name=\"VL\" # @param {type:\"string\", placeholder:\"enter a value\"}\n",
        "Ltype_col_name=\"locus\" # @param {type:\"string\", placeholder:\"enter a value\"}\n",
        "\n",
        "data=pd.read_csv(data_dir)\n",
        "data"
      ],
      "metadata": {
        "id": "b1S6pagpRsOT"
      },
      "execution_count": null,
      "outputs": []
    },
    {
      "cell_type": "code",
      "source": [
        "# @title Run ImmunoMatch on batches\n",
        "# @markdown Now it's the time to get all the pairing scores for the sequences collected in your data file! Select the version of the ImmunoMatch according to your research interest, then wait for several mins to hours to get the results, based on the number of sequences and the available computational resources.\n",
        "\n",
        "# @markdown <b>The results will be downloaded automatically once the calculation is finished.</b>\n",
        "\n",
        "#model_checkpoint_batch ='fraternalilab/immunomatch' # @param [\"fraternalilab/immunomatch\", \"fraternalilab/immunomatch-kappa\", \"fraternalilab/immunomatch_lambda\"]\n",
        "\n",
        "kappa_data = data.loc[data[Ltype_col_name].apply(lambda x: \"IGK\" in x)]\n",
        "lambda_data = data.loc[data[Ltype_col_name].apply(lambda x: \"IGL\" in x)]\n",
        "\n",
        "k_data_dir = \"kappa_data.csv\"\n",
        "l_data_dir = \"lambda_data.csv\"\n",
        "kappa_data.to_csv(k_data_dir, index=False)\n",
        "lambda_data.to_csv(l_data_dir, index=False)\n",
        "\n",
        "k_pairing_batch_result = pairing_scores_batches(k_data_dir,hseq_col_name,lseq_col_name, \"fraternalilab/immunomatch-kappa\")\n",
        "l_pairing_batch_result = pairing_scores_batches(l_data_dir,hseq_col_name,lseq_col_name, \"fraternalilab/immunomatch-lambda\")\n",
        "\n",
        "pairing_batch_result = pd.concat([k_pairing_batch_result, l_pairing_batch_result]).sort_index()\n",
        "\n",
        "# save the result\n",
        "f_name=data_dir.split(\"/\")[-1]\n",
        "pairing_batch_result.to_csv(f\"pairing_result_{f_name}\")\n",
        "\n",
        "# download the result\n",
        "output_dir=\"prediction\"\n",
        "os.makedirs(output_dir, exist_ok=True)\n",
        "\n",
        "os.rename(f\"pairing_result_{f_name}\",f\"{output_dir}/pairing_result_{f_name}\")\n",
        "\n",
        "shutil.make_archive(output_dir, format='zip', root_dir=output_dir)\n",
        "files.download(f'{output_dir}.zip')\n",
        "\n",
        "\n"
      ],
      "metadata": {
        "id": "yzKn3_NSwWXI",
        "cellView": "form"
      },
      "execution_count": null,
      "outputs": []
    },
    {
      "cell_type": "code",
      "source": [
        "# @title Simple visualization of the predicted pairing scores\n",
        "sns.kdeplot(pairing_batch_result, x=\"pairing_scores\")"
      ],
      "metadata": {
        "id": "JeZrAYaHJwzd",
        "cellView": "form"
      },
      "execution_count": null,
      "outputs": []
    },
    {
      "cell_type": "code",
      "source": [],
      "metadata": {
        "id": "l6ya6dy7wXUq"
      },
      "execution_count": null,
      "outputs": []
    }
  ]
}